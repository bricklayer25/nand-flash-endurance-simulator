{
 "cells": [
  {
   "cell_type": "markdown",
   "metadata": {},
   "source": [
    "# NAND Flash Endurance: A Monte Carlo Simulation Report\n",
    "\n",
    "This report walks through the process of building and running a Python-based simulator to model the wear-out process of different NAND flash memory architectures (SLC, MLC, and TLC). The goal is to visualize the relationship between Program/Erase (P/E) cycles and the resulting Bit Error Rate (BER)."
   ]
  },
  {
   "cell_type": "markdown",
   "metadata": {},
   "source": [
    "## Step 1: Setup and Configuration\n",
    "\n",
    "First, we import the necessary libraries (`os`, `numpy`, `matplotlib`) and define the core simulation parameters. We create a dictionary, `NAND_TYPES`, to hold the characteristic mean endurance and standard deviation for Single-Level, Multi-Level, and Triple-Level Cells. These values are based on typical industry data."
   ]
  },
  {
   "cell_type": "code",
   "execution_count": null,
   "metadata": {},
   "outputs": [],
   "source": [
    "import os\n",
    "import numpy as np\n",
    "import matplotlib.pyplot as plt\n",
    "\n",
    "NAND_TYPES = {\n",
    "    \"1\": {\"name\": \"SLC (Single-Level Cell)\", \"mean\": 100000, \"std_dev\": 10000},\n",
    "    \"2\": {\"name\": \"MLC (Multi-Level Cell)\", \"mean\": 10000, \"std_dev\": 1000},\n",
    "    \"3\": {\"name\": \"TLC (Triple-Level Cell)\", \"mean\": 3000, \"std_dev\": 300},\n",
    "}"
   ]
  },
  {
   "cell_type": "markdown",
   "metadata": {},
   "source": [
    "## Step 2: Building the Simulation Engine\n",
    "\n",
    "The core of the project is the `run_simulation` function. This function takes the parameters for a specific NAND type and simulates its entire lifecycle. For each Program/Erase cycle, it increments a counter for every cell and checks how many cells have exceeded their randomly assigned endurance threshold. It logs the Bit Error Rate (BER) at each cycle and returns the complete dataset."
   ]
  },
  {
   "cell_type": "code",
   "execution_count": null,
   "metadata": {},
   "outputs": [],
   "source": [
    "def run_simulation(num_cells, mean_endurance, std_dev, nand_name):\n",
    "    \"\"\"Runs a single NAND endurance simulation and returns the results.\"\"\"\n",
    "    print(f\"--- Running simulation for {nand_name} ---\")\n",
    "    \n",
    "    # Generate the endurance thresholds for each cell based on a normal distribution\n",
    "    cell_endurance_thresholds = np.random.normal(loc=mean_endurance, scale=std_dev, size=num_cells).astype(int)\n",
    "\n",
    "    # Calculate a dynamic simulation length to capture the full failure curve\n",
    "    max_cycles = mean_endurance + (4 * std_dev)\n",
    "    reporting_interval = max(1, max_cycles // 10)\n",
    "\n",
    "    # Initialize arrays to track wear and results\n",
    "    p_e_counts = np.zeros(num_cells, dtype=int)\n",
    "    results_log = []\n",
    "\n",
    "    # The main simulation loop\n",
    "    for cycle in range(1, max_cycles + 1):\n",
    "        p_e_counts += 1  # Apply wear\n",
    "        failed_cells_mask = p_e_counts > cell_endurance_thresholds  # Check for failures\n",
    "        num_failed = np.sum(failed_cells_mask)  # Count failures\n",
    "        ber = num_failed / num_cells  # Calculate BER\n",
    "        results_log.append((cycle, ber))\n",
    "        \n",
    "        if cycle % reporting_interval == 0:\n",
    "            print(f\"  Cycle {cycle}/{max_cycles} | BER: {ber:.6f}\")\n",
    "    \n",
    "    print(f\"Simulation for {nand_name} complete.\\n\")\n",
    "    return np.array(results_log)"
   ]
  },
  {
   "cell_type": "markdown",
   "metadata": {},
   "source": [
    "## Step 3: Creating the Visualization Function\n",
    "\n",
    "With the simulation engine built, we need a function to visualize the results. The `plot_comparison_curves` function takes the data from all simulations and plots them on a single graph. A key feature is the use of a **logarithmic scale** for the Y-axis (BER), which is essential for clearly observing the initial onset of failures."
   ]
  },
  {
   "cell_type": "code",
   "execution_count": null,
   "metadata": {},
   "outputs": [],
   "source": [
    "def plot_comparison_curves(results_dict):\n",
    "    \"\"\"Plots the BER curves for multiple NAND types on a single graph.\"\"\"\n",
    "    plt.figure(figsize=(12, 8))\n",
    "    \n",
    "    for nand_name, results_array in results_dict.items():\n",
    "        cycles = results_array[:, 0]\n",
    "        bers = results_array[:, 1]\n",
    "        plt.plot(cycles, bers, label=nand_name)\n",
    "        \n",
    "    plt.yscale('log')\n",
    "    \n",
    "    plt.title('NAND Flash Endurance Comparison', fontsize=16)\n",
    "    plt.xlabel('Program/Erase (P/E) Cycles', fontsize=12)\n",
    "    plt.ylabel('Bit Error Rate (BER) - Log Scale', fontsize=12)\n",
    "    plt.grid(True, which=\"both\", linestyle='--')\n",
    "    plt.legend()\n",
    "    \n",
    "    # Save the figure to a results directory\n",
    "    output_dir = 'results'\n",
    "    if not os.path.exists(output_dir):\n",
    "        os.makedirs(output_dir)\n",
    "    output_path = os.path.join(output_dir, 'nand_endurance_comparison.png')\n",
    "    plt.savefig(output_path, dpi=300)\n",
    "    print(f\"Plot successfully saved to {output_path}\")\n",
    "    \n",
    "    plt.show()"
   ]
  },
  {
   "cell_type": "markdown",
   "metadata": {},
   "source": [
    "## Step 4: Executing the Analysis\n",
    "\n",
    "Now we tie everything together. We'll define a constant for the number of cells to simulate, then loop through our `NAND_TYPES` dictionary. In each loop, we call `run_simulation` and store the results. This automates the entire analysis process."
   ]
  },
  {
   "cell_type": "code",
   "execution_count": null,
   "metadata": {},
   "outputs": [],
   "source": [
    "NUM_CELLS_TO_SIMULATE = 50000\n",
    "all_results = {}\n",
    "\n",
    "for key, params in NAND_TYPES.items():\n",
    "    results = run_simulation(\n",
    "        num_cells=NUM_CELLS_TO_SIMULATE,\n",
    "        mean_endurance=params['mean'],\n",
    "        std_dev=params['std_dev'],\n",
    "        nand_name=params['name']\n",
    "    )\n",
    "    all_results[params['name']] = results"
   ]
  },
  {
   "cell_type": "markdown",
   "metadata": {},
   "source": [
    "## Step 5: Final Results and Conclusion\n",
    "\n",
    "Finally, we pass the collected results to our plotting function to generate the final comparison graph. The plot visually confirms the well-known trade-off in NAND flash technology: higher density (TLC > MLC > SLC) comes at the cost of significantly lower endurance."
   ]
  },
  {
   "cell_type": "code",
   "execution_count": null,
   "metadata": {},
   "outputs": [],
   "source": [
    "plot_comparison_curves(all_results)"
   ]
  },
  {
   "cell_type": "markdown",
   "metadata": {},
   "source": [
    "### Conclusion\n",
    "\n",
    "The simulation clearly demonstrates the characteristic \"S-curve\" of cumulative failure for each NAND type and highlights the approximate 10x reduction in P/E cycles between each successive generation (SLC -> MLC -> TLC). This model successfully represents the raw physical endurance of the cells. In a real-world scenario, an SSD controller's Error Correction Code (ECC) would correct the initial bit errors, extending the device's functional lifespan beyond the point of first failure shown here."
   ]
  }
 ],
 "metadata": {
  "kernelspec": {
   "display_name": "Python (nand_sim)",
   "language": "python",
   "name": "nand_sim"
  },
  "language_info": {
   "codemirror_mode": {
    "name": "ipython",
    "version": 3
   },
   "file_extension": ".py",
   "mimetype": "text/x-python",
   "name": "python",
   "nbconvert_exporter": "python",
   "pygments_lexer": "ipython3",
   "version": "3.11.13"
  }
 },
 "nbformat": 4,
 "nbformat_minor": 4
}
